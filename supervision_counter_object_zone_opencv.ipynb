{
 "cells": [
  {
   "cell_type": "code",
   "execution_count": null,
   "metadata": {
    "id": "NpxT8jNLj46n"
   },
   "outputs": [],
   "source": [
    "!nvidia-smi"
   ]
  },
  {
   "cell_type": "code",
   "execution_count": null,
   "metadata": {
    "id": "tNj9UHAwj9t0"
   },
   "outputs": [],
   "source": [
    "import torch\n",
    "!nvcc --version\n",
    "TORCH_VERSION = \".\".join(torch.__version__.split(\".\")[:2])\n",
    "CUDA_VERSION = torch.__version__.split(\"+\")[-1]\n",
    "print(\"torch: \", TORCH_VERSION, \"; cuda: \", CUDA_VERSION)"
   ]
  },
  {
   "cell_type": "code",
   "execution_count": null,
   "metadata": {
    "id": "1WjngrThj9wa"
   },
   "outputs": [],
   "source": [
    "import os\n",
    "HOME = os.getcwd()\n",
    "print(HOME)"
   ]
  },
  {
   "cell_type": "code",
   "execution_count": null,
   "metadata": {
    "id": "IS0UwSk-j9y5"
   },
   "outputs": [],
   "source": [
    "!pip install ultralytics\n",
    "\n",
    "from IPython import display\n",
    "display.clear_output()\n",
    "\n",
    "import ultralytics\n",
    "ultralytics.checks()"
   ]
  },
  {
   "cell_type": "code",
   "execution_count": null,
   "metadata": {
    "id": "ucrer7Ezj91N"
   },
   "outputs": [],
   "source": [
    "!python -m pip install 'git+https://github.com/facebookresearch/detectron2.git'\n",
    "\n",
    "from IPython import display\n",
    "display.clear_output()\n",
    "\n",
    "import detectron2\n",
    "print(\"detectron2:\", detectron2.__version__)"
   ]
  },
  {
   "cell_type": "code",
   "execution_count": null,
   "metadata": {
    "id": "x5mgte2GkEDO"
   },
   "outputs": [],
   "source": [
    "!pip install supervision\n",
    "\n",
    "from IPython import display\n",
    "display.clear_output()\n",
    "\n",
    "import supervision as sv\n",
    "print(\"supervision\", sv.__version__)"
   ]
  },
  {
   "cell_type": "markdown",
   "metadata": {
    "id": "uP7n_BTnkGkq"
   },
   "source": [
    "Dowload Data"
   ]
  },
  {
   "cell_type": "code",
   "execution_count": null,
   "metadata": {
    "id": "DOD18gNekEFo"
   },
   "outputs": [],
   "source": [
    "!pip install supervision[assets] -q\n",
    "\n",
    "from IPython import display\n",
    "display.clear_output()"
   ]
  },
  {
   "cell_type": "code",
   "execution_count": null,
   "metadata": {
    "id": "THRA7EHCkEIG"
   },
   "outputs": [],
   "source": [
    "from supervision.assets import download_assets, VideoAssets\n",
    "from IPython import display\n",
    "\n",
    "\n",
    "download_assets(VideoAssets.MARKET_SQUARE)\n",
    "download_assets(VideoAssets.GROCERY_STORE)\n",
    "download_assets(VideoAssets.SUBWAY)\n",
    "\n",
    "\n",
    "display.clear_output()"
   ]
  },
  {
   "cell_type": "code",
   "execution_count": null,
   "metadata": {
    "id": "PrmcW4SekLCp"
   },
   "outputs": [],
   "source": [
    "from ultralytics import YOLO\n",
    "\n",
    "model = YOLO('yolov8s.pt')"
   ]
  },
  {
   "cell_type": "code",
   "execution_count": null,
   "metadata": {
    "id": "Vj7zpMPgkLFg"
   },
   "outputs": [],
   "source": [
    "sv.VideoInfo.from_video_path(VideoAssets.GROCERY_STORE.value)"
   ]
  },
  {
   "cell_type": "code",
   "execution_count": null,
   "metadata": {
    "id": "HDGpYmF5kPXk"
   },
   "outputs": [],
   "source": [
    "import numpy as np\n",
    "import supervision as sv\n",
    "\n",
    "# initiate polygon zone\n",
    "polygon = np.array([\n",
    "    [1900, 1250],\n",
    "    [2350, 1250],\n",
    "    [3500, 2160],\n",
    "    [1250, 2160]\n",
    "])\n",
    "video_info = sv.VideoInfo.from_video_path(VideoAssets.GROCERY_STORE.value)\n",
    "zone = sv.PolygonZone(polygon=polygon)\n",
    "\n",
    "# initiate annotators\n",
    "box_annotator = sv.BoundingBoxAnnotator(thickness=4)\n",
    "label_annotator = sv.LabelAnnotator(text_thickness=4, text_scale=2)\n",
    "zone_annotator = sv.PolygonZoneAnnotator(zone=zone, color=sv.Color.WHITE, thickness=6, text_thickness=6, text_scale=4)\n",
    "\n",
    "# extract video frame\n",
    "generator = sv.get_video_frames_generator(VideoAssets.GROCERY_STORE.value)\n",
    "iterator = iter(generator)\n",
    "frame = next(iterator)\n",
    "\n",
    "# detect\n",
    "results = model(frame, imgsz=1280)[0]\n",
    "detections = sv.Detections.from_ultralytics(results)\n",
    "detections = detections[detections.class_id == 0]\n",
    "zone.trigger(detections=detections)\n",
    "\n",
    "# Counting detections in the polygonal zone\n",
    "print(f\"Alandaki kişi sayısı: {zone.current_count}\")\n",
    "\n",
    "# annotate\n",
    "labels = [f\"{model.names[class_id]} {confidence:0.2f}\" for _, _, confidence, class_id, _, _ in detections]\n",
    "frame = box_annotator.annotate(scene=frame, detections=detections)\n",
    "frame = label_annotator.annotate(scene=frame, detections=detections, labels=labels)\n",
    "frame = zone_annotator.annotate(scene=frame)\n",
    "\n",
    "%matplotlib inline\n",
    "sv.plot_image(frame, (16, 16))"
   ]
  },
  {
   "cell_type": "code",
   "execution_count": null,
   "metadata": {
    "id": "sOhzQKFDkQdN"
   },
   "outputs": [],
   "source": [
    "# Define polygons\n",
    "polygons = [\n",
    "    np.array([\n",
    "        [540,  985 ],\n",
    "        [1620, 985 ],\n",
    "        [2160, 1920],\n",
    "        [1620, 2855],\n",
    "        [540,  2855],\n",
    "        [0,    1920]\n",
    "    ], np.int32),\n",
    "    np.array([\n",
    "        [0,    1920],\n",
    "        [540,  985 ],\n",
    "        [0,    0   ]\n",
    "    ], np.int32),\n",
    "    np.array([\n",
    "        [1620, 985 ],\n",
    "        [2160, 1920],\n",
    "        [2160,    0]\n",
    "    ], np.int32),\n",
    "    np.array([\n",
    "        [540,  985 ],\n",
    "        [0,    0   ],\n",
    "        [2160, 0   ],\n",
    "        [1620, 985 ]\n",
    "    ], np.int32),\n",
    "    np.array([\n",
    "        [0,    1920],\n",
    "        [0,    3840],\n",
    "        [540,  2855]\n",
    "    ], np.int32),\n",
    "    np.array([\n",
    "        [2160, 1920],\n",
    "        [1620, 2855],\n",
    "        [2160, 3840]\n",
    "    ], np.int32),\n",
    "    np.array([\n",
    "        [1620, 2855],\n",
    "        [540,  2855],\n",
    "        [0,    3840],\n",
    "        [2160, 3840]\n",
    "    ], np.int32)\n",
    "]\n",
    "\n",
    "# Video information\n",
    "video_info = sv.VideoInfo.from_video_path(VideoAssets.MARKET_SQUARE.value)\n",
    "\n",
    "# Define zones and annotators\n",
    "colors = sv.ColorPalette.DEFAULT\n",
    "zones = [sv.PolygonZone(polygon=polygon) for polygon in polygons]\n",
    "zone_annotators = [\n",
    "    sv.PolygonZoneAnnotator(\n",
    "        zone=zone,\n",
    "        color=colors.by_idx(index),\n",
    "        thickness=6,\n",
    "        text_thickness=8,\n",
    "        text_scale=4\n",
    "    )\n",
    "    for index, zone in enumerate(zones)\n",
    "]\n",
    "box_annotators = [\n",
    "    sv.BoxAnnotator(\n",
    "        color=colors.by_idx(index),\n",
    "        thickness=4,\n",
    "    )\n",
    "    for index in range(len(polygons))\n",
    "]\n",
    "\n",
    "# Extract a video frame\n",
    "# extract video frame\n",
    "generator = sv.get_video_frames_generator(VideoAssets.MARKET_SQUARE.value)\n",
    "iterator = iter(generator)\n",
    "frame = next(iterator)\n",
    "\n",
    "# detect\n",
    "results = model(frame, imgsz=1280)[0]\n",
    "detections = sv.Detections.from_ultralytics(results)\n",
    "detections = detections[detections.class_id == 0]\n",
    "\n",
    "# Trigger polygon zones and annotate\n",
    "for zone, zone_annotator, box_annotator in zip(zones, zone_annotators, box_annotators):\n",
    "    mask = zone.trigger(detections=detections)\n",
    "    detections_filtered = detections[mask]\n",
    "    frame = box_annotator.annotate(scene=frame, detections=detections_filtered)\n",
    "    frame = zone_annotator.annotate(scene=frame)\n",
    "    print(f\"Zone {zones.index(zone) + 1} alandaki kişi sayısı: {zone.current_count}\")\n",
    "\n",
    "%matplotlib inline\n",
    "sv.plot_image(frame, (16, 16))\n"
   ]
  },
  {
   "cell_type": "code",
   "execution_count": null,
   "metadata": {
    "id": "C5mcRZr7kTkG"
   },
   "outputs": [],
   "source": [
    "import numpy as np\n",
    "import supervision as sv\n",
    "from pathlib import Path\n",
    "import cv2\n",
    "\n",
    "# Define polygons\n",
    "polygons = [\n",
    "    np.array([\n",
    "        [540,  985 ],\n",
    "        [1620, 985 ],\n",
    "        [2160, 1920],\n",
    "        [1620, 2855],\n",
    "        [540,  2855],\n",
    "        [0,    1920]\n",
    "    ], np.int32),\n",
    "    np.array([\n",
    "        [0,    1920],\n",
    "        [540,  985 ],\n",
    "        [0,    0   ]\n",
    "    ], np.int32),\n",
    "    np.array([\n",
    "        [1620, 985 ],\n",
    "        [2160, 1920],\n",
    "        [2160,    0]\n",
    "    ], np.int32),\n",
    "    np.array([\n",
    "        [540,  985 ],\n",
    "        [0,    0   ],\n",
    "        [2160, 0   ],\n",
    "        [1620, 985 ]\n",
    "    ], np.int32),\n",
    "    np.array([\n",
    "        [0,    1920],\n",
    "        [0,    3840],\n",
    "        [540,  2855]\n",
    "    ], np.int32),\n",
    "    np.array([\n",
    "        [2160, 1920],\n",
    "        [1620, 2855],\n",
    "        [2160, 3840]\n",
    "    ], np.int32),\n",
    "    np.array([\n",
    "        [1620, 2855],\n",
    "        [540,  2855],\n",
    "        [0,    3840],\n",
    "        [2160, 3840]\n",
    "    ], np.int32)\n",
    "]\n",
    "\n",
    "# Video information\n",
    "video_path = VideoAssets.MARKET_SQUARE.value\n",
    "output_path=f\"{HOME}/outputvideo.mp4\"\n",
    "\n",
    "video_info = sv.VideoInfo.from_video_path(video_path)\n",
    "\n",
    "# Define zones and annotators\n",
    "colors = sv.ColorPalette.DEFAULT\n",
    "zones = [sv.PolygonZone(polygon=polygon) for polygon in polygons]\n",
    "zone_annotators = [\n",
    "    sv.PolygonZoneAnnotator(\n",
    "        zone=zone,\n",
    "        color=colors.by_idx(index),\n",
    "        thickness=6,\n",
    "        text_thickness=8,\n",
    "        text_scale=4\n",
    "    )\n",
    "    for index, zone in enumerate(zones)\n",
    "]\n",
    "box_annotators = [\n",
    "    sv.BoxAnnotator(\n",
    "        color=colors.by_idx(index),\n",
    "        thickness=4,\n",
    "    )\n",
    "    for index in range(len(polygons))\n",
    "]\n",
    "\n",
    "# Open video capture\n",
    "cap = cv2.VideoCapture(video_path)\n",
    "fps = int(cap.get(cv2.CAP_PROP_FPS))\n",
    "width = int(cap.get(cv2.CAP_PROP_FRAME_WIDTH))\n",
    "height = int(cap.get(cv2.CAP_PROP_FRAME_HEIGHT))\n",
    "\n",
    "# Define video writer\n",
    "fourcc = cv2.VideoWriter_fourcc(*'mp4v')\n",
    "out = cv2.VideoWriter(output_path, fourcc, fps, (width, height))\n",
    "\n",
    "while True:\n",
    "    ret, frame = cap.read()\n",
    "    if not ret:\n",
    "        break\n",
    "\n",
    "    # Detect\n",
    "    results = model(frame, imgsz=1280)[0]\n",
    "    detections = sv.Detections.from_ultralytics(results)\n",
    "    detections = detections[detections.class_id == 0]\n",
    "\n",
    "    # Trigger polygon zones and annotate\n",
    "    for zone, zone_annotator, box_annotator in zip(zones, zone_annotators, box_annotators):\n",
    "        mask = zone.trigger(detections=detections)\n",
    "        detections_filtered = detections[mask]\n",
    "        frame = box_annotator.annotate(scene=frame, detections=detections_filtered)\n",
    "        frame = zone_annotator.annotate(scene=frame)\n",
    "        print(f\"Zone {zones.index(zone) + 1} alandaki kişi sayısı: {zone.current_count}\")\n",
    "\n",
    "    # Write frame to output video\n",
    "    out.write(frame)\n",
    "\n",
    "# Release resources\n",
    "cap.release()\n",
    "out.release()\n",
    "cv2.destroyAllWindows()"
   ]
  }
 ],
 "metadata": {
  "colab": {
   "provenance": []
  },
  "kernelspec": {
   "display_name": "Python 3 (ipykernel)",
   "language": "python",
   "name": "python3"
  },
  "language_info": {
   "codemirror_mode": {
    "name": "ipython",
    "version": 3
   },
   "file_extension": ".py",
   "mimetype": "text/x-python",
   "name": "python",
   "nbconvert_exporter": "python",
   "pygments_lexer": "ipython3",
   "version": "3.12.7"
  }
 },
 "nbformat": 4,
 "nbformat_minor": 4
}
